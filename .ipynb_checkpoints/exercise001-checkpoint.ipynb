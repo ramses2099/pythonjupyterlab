{
 "cells": [
  {
   "cell_type": "markdown",
   "id": "ad225322-0ea8-484f-af9a-75855905d1e2",
   "metadata": {},
   "source": [
    "# Python FAST API Tutorial"
   ]
  },
  {
   "cell_type": "markdown",
   "id": "13f6beeb-cfdb-49bb-93de-1eeb7653e6a3",
   "metadata": {},
   "source": [
    "### Fast-api 📝"
   ]
  },
  {
   "cell_type": "markdown",
   "id": "80a61d6e-f3fc-4cf7-906e-c4a8ea850460",
   "metadata": {},
   "source": [
    "## Install fastapi package using pip install fastapi and uvicorn"
   ]
  },
  {
   "cell_type": "code",
   "execution_count": 3,
   "id": "8680deb7-6d82-4f81-8ba5-36f7713b0932",
   "metadata": {},
   "outputs": [],
   "source": [
    "from fastapi import FastAPI"
   ]
  },
  {
   "cell_type": "markdown",
   "id": "23f4ac45-7e75-4a85-940d-13cdb6ce7fba",
   "metadata": {},
   "source": [
    "### Create variable app 📱 "
   ]
  },
  {
   "cell_type": "code",
   "execution_count": 5,
   "id": "d7f513de-ace8-4240-ad6e-7bbfdf0e4421",
   "metadata": {},
   "outputs": [],
   "source": [
    "app = FastAPI()"
   ]
  },
  {
   "cell_type": "markdown",
   "id": "43965251-b4c6-441f-bb64-b9b786003bb9",
   "metadata": {},
   "source": [
    "## Create endpoint 🔨"
   ]
  },
  {
   "cell_type": "markdown",
   "id": "39fdec3f-cad1-4f29-b5f7-5c663db84eac",
   "metadata": {},
   "source": [
    "### An API endpoint is the point of entry in a communication channel when are interacting.\n",
    "### It refers of the communication between an API and a server"
   ]
  },
  {
   "cell_type": "code",
   "execution_count": null,
   "id": "46b43fd2-00df-48f3-bd4d-3f1292e8c37e",
   "metadata": {},
   "outputs": [],
   "source": [
    "@app.get(\"/\")\n",
    "def home():\n",
    "         return {\"Data\":\"caracola\"}"
   ]
  },
  {
   "cell_type": "markdown",
   "id": "884e5489-1bab-499d-9581-6bb23fbe86e6",
   "metadata": {},
   "source": [
    "## Run the api use uvicorn [namefile]:app --reload"
   ]
  },
  {
   "cell_type": "code",
   "execution_count": null,
   "id": "84dacac3-4684-4a2c-908d-d87321ff43b2",
   "metadata": {},
   "outputs": [],
   "source": [
    "@app.get(\"/about\")\n",
    "def about():\n",
    "    return {\"Data\":\"About\"}"
   ]
  },
  {
   "cell_type": "code",
   "execution_count": null,
   "id": "087eb590-2f85-4844-8d36-26bb3ea5bf41",
   "metadata": {},
   "outputs": [],
   "source": []
  }
 ],
 "metadata": {
  "kernelspec": {
   "display_name": "Python 3 (ipykernel)",
   "language": "python",
   "name": "python3"
  },
  "language_info": {
   "codemirror_mode": {
    "name": "ipython",
    "version": 3
   },
   "file_extension": ".py",
   "mimetype": "text/x-python",
   "name": "python",
   "nbconvert_exporter": "python",
   "pygments_lexer": "ipython3",
   "version": "3.10.9"
  }
 },
 "nbformat": 4,
 "nbformat_minor": 5
}
